{
 "cells": [
  {
   "cell_type": "code",
   "execution_count": 36,
   "id": "seasonal-snapshot",
   "metadata": {},
   "outputs": [
    {
     "data": {
      "text/html": [
       "<div>\n",
       "<style scoped>\n",
       "    .dataframe tbody tr th:only-of-type {\n",
       "        vertical-align: middle;\n",
       "    }\n",
       "\n",
       "    .dataframe tbody tr th {\n",
       "        vertical-align: top;\n",
       "    }\n",
       "\n",
       "    .dataframe thead th {\n",
       "        text-align: right;\n",
       "    }\n",
       "</style>\n",
       "<table border=\"1\" class=\"dataframe\">\n",
       "  <thead>\n",
       "    <tr style=\"text-align: right;\">\n",
       "      <th></th>\n",
       "      <th>Symbol</th>\n",
       "      <th>Name</th>\n",
       "      <th>Last Sale</th>\n",
       "      <th>Net Change</th>\n",
       "      <th>% Change</th>\n",
       "      <th>Market Cap</th>\n",
       "      <th>Country</th>\n",
       "      <th>IPO Year</th>\n",
       "      <th>Volume</th>\n",
       "      <th>Sector</th>\n",
       "      <th>Industry</th>\n",
       "    </tr>\n",
       "  </thead>\n",
       "  <tbody>\n",
       "    <tr>\n",
       "      <th>0</th>\n",
       "      <td>A</td>\n",
       "      <td>Agilent Technologies Inc. Common Stock</td>\n",
       "      <td>$120.84</td>\n",
       "      <td>-1.14</td>\n",
       "      <td>-0.935%</td>\n",
       "      <td>3.681965e+10</td>\n",
       "      <td>United States</td>\n",
       "      <td>1999.0</td>\n",
       "      <td>1477524</td>\n",
       "      <td>Capital Goods</td>\n",
       "      <td>Biotechnology: Laboratory Analytical Instruments</td>\n",
       "    </tr>\n",
       "    <tr>\n",
       "      <th>1</th>\n",
       "      <td>AA</td>\n",
       "      <td>Alcoa Corporation Common Stock</td>\n",
       "      <td>$28.76</td>\n",
       "      <td>1.34</td>\n",
       "      <td>4.887%</td>\n",
       "      <td>5.358597e+09</td>\n",
       "      <td>NaN</td>\n",
       "      <td>2016.0</td>\n",
       "      <td>9121782</td>\n",
       "      <td>Basic Industries</td>\n",
       "      <td>Aluminum</td>\n",
       "    </tr>\n",
       "    <tr>\n",
       "      <th>2</th>\n",
       "      <td>AACG</td>\n",
       "      <td>ATA Creativity Global American Depositary Shares</td>\n",
       "      <td>$4.09</td>\n",
       "      <td>-0.30</td>\n",
       "      <td>-6.834%</td>\n",
       "      <td>1.282235e+08</td>\n",
       "      <td>China</td>\n",
       "      <td>NaN</td>\n",
       "      <td>271905</td>\n",
       "      <td>Consumer Services</td>\n",
       "      <td>Other Consumer Services</td>\n",
       "    </tr>\n",
       "    <tr>\n",
       "      <th>3</th>\n",
       "      <td>AACQ</td>\n",
       "      <td>Artius Acquisition Inc. Class A Common Stock</td>\n",
       "      <td>$10.05</td>\n",
       "      <td>-0.08</td>\n",
       "      <td>-0.79%</td>\n",
       "      <td>9.101531e+08</td>\n",
       "      <td>United States</td>\n",
       "      <td>2020.0</td>\n",
       "      <td>2055454</td>\n",
       "      <td>Basic Industries</td>\n",
       "      <td>Major Chemicals</td>\n",
       "    </tr>\n",
       "    <tr>\n",
       "      <th>4</th>\n",
       "      <td>AACQU</td>\n",
       "      <td>Artius Acquisition Inc. Unit</td>\n",
       "      <td>$10.57</td>\n",
       "      <td>-0.17</td>\n",
       "      <td>-1.583%</td>\n",
       "      <td>0.000000e+00</td>\n",
       "      <td>United States</td>\n",
       "      <td>2020.0</td>\n",
       "      <td>12747</td>\n",
       "      <td>Basic Industries</td>\n",
       "      <td>Major Chemicals</td>\n",
       "    </tr>\n",
       "  </tbody>\n",
       "</table>\n",
       "</div>"
      ],
      "text/plain": [
       "  Symbol                                              Name Last Sale  \\\n",
       "0      A            Agilent Technologies Inc. Common Stock   $120.84   \n",
       "1     AA                   Alcoa Corporation Common Stock     $28.76   \n",
       "2   AACG  ATA Creativity Global American Depositary Shares     $4.09   \n",
       "3   AACQ      Artius Acquisition Inc. Class A Common Stock    $10.05   \n",
       "4  AACQU                     Artius Acquisition Inc. Unit     $10.57   \n",
       "\n",
       "   Net Change % Change    Market Cap        Country  IPO Year   Volume  \\\n",
       "0       -1.14  -0.935%  3.681965e+10  United States    1999.0  1477524   \n",
       "1        1.34   4.887%  5.358597e+09            NaN    2016.0  9121782   \n",
       "2       -0.30  -6.834%  1.282235e+08          China       NaN   271905   \n",
       "3       -0.08   -0.79%  9.101531e+08  United States    2020.0  2055454   \n",
       "4       -0.17  -1.583%  0.000000e+00  United States    2020.0    12747   \n",
       "\n",
       "              Sector                                          Industry  \n",
       "0      Capital Goods  Biotechnology: Laboratory Analytical Instruments  \n",
       "1   Basic Industries                                          Aluminum  \n",
       "2  Consumer Services                           Other Consumer Services  \n",
       "3   Basic Industries                                   Major Chemicals  \n",
       "4   Basic Industries                                   Major Chemicals  "
      ]
     },
     "execution_count": 36,
     "metadata": {},
     "output_type": "execute_result"
    }
   ],
   "source": [
    "import pandas as pd\n",
    "from tqdm import tqdm\n",
    "\n",
    "df = pd.read_csv('./nasdaq_screener_1616644111239.csv')\n",
    "df.head()"
   ]
  },
  {
   "cell_type": "code",
   "execution_count": 18,
   "id": "directed-russian",
   "metadata": {},
   "outputs": [],
   "source": [
    "stockDic = {}\n",
    "strOptions = []\n",
    "for i in range(len(df)):\n",
    "    stockName = df['Name'][i].lower()\n",
    "    stockSymbol = df['Symbol'][i].lower()\n",
    "    strOptions.append(stockName)\n",
    "    stockDic[stockName] = stockSymbol"
   ]
  },
  {
   "cell_type": "code",
   "execution_count": 24,
   "id": "behavioral-electron",
   "metadata": {},
   "outputs": [
    {
     "name": "stdout",
     "output_type": "stream",
     "text": [
      "('amazon.com inc. common stock', 90)\n"
     ]
    }
   ],
   "source": [
    "from fuzzywuzzy import process\n",
    "str2Match = \"amazon\"\n",
    "Ratios = process.extract(str2Match,strOptions)\n",
    "print(Ratios[0])"
   ]
  },
  {
   "cell_type": "code",
   "execution_count": 32,
   "id": "complete-visit",
   "metadata": {},
   "outputs": [],
   "source": [
    "import spacy                                                                                                                            \n",
    "nlp = spacy.load('en_core_web_lg')\n",
    "with open('./marketwatch.txt', 'r', encoding=\"utf8\") as file:\n",
    "    document_string = file.read().replace('\\n', '')\n",
    "sents = nlp(document_string)\n",
    "companyNames = [str(ee) for ee in sents.ents if ee.label_ == 'ORG']"
   ]
  },
  {
   "cell_type": "code",
   "execution_count": 38,
   "id": "identical-simple",
   "metadata": {},
   "outputs": [
    {
     "data": {
      "text/plain": [
       "['Twitter',\n",
       " 'Carnival',\n",
       " 'Airbnb',\n",
       " 'CCL',\n",
       " 'Spotify Technology',\n",
       " 'JBLU',\n",
       " 'Tripadvisor',\n",
       " 'Redfin (RDFN',\n",
       " 'Ford Motor',\n",
       " 'ABNB',\n",
       " 'CWB',\n",
       " 'Ford',\n",
       " 'Southwest Airlines',\n",
       " 'the SPDR Bloomberg Barclays Convertible Securities ETF',\n",
       " 'JetBlue Airways',\n",
       " 'Advent Capital Management',\n",
       " 'the Advent Convertible & Income (AVK',\n",
       " 'Bank of America Securities']"
      ]
     },
     "execution_count": 38,
     "metadata": {},
     "output_type": "execute_result"
    }
   ],
   "source": [
    "companyNames = list(set(companyNames))\n",
    "companyNames"
   ]
  },
  {
   "cell_type": "code",
   "execution_count": 39,
   "id": "descending-wyoming",
   "metadata": {},
   "outputs": [
    {
     "name": "stderr",
     "output_type": "stream",
     "text": [
      "100%|██████████████████████████████████████████████████████████████████████████████████| 18/18 [01:15<00:00,  4.18s/it]\n"
     ]
    },
    {
     "data": {
      "text/plain": [
       "['twtr',\n",
       " 'ccl',\n",
       " 'abnb',\n",
       " 'acel',\n",
       " 'spot',\n",
       " 'bcor',\n",
       " 'ltrpa',\n",
       " 'rdfn',\n",
       " 'f',\n",
       " 'abb',\n",
       " 'cbtg',\n",
       " 'crd/b',\n",
       " 'luv',\n",
       " 'acv',\n",
       " 'jblu',\n",
       " 'ac',\n",
       " 'acv',\n",
       " 'acglo']"
      ]
     },
     "execution_count": 39,
     "metadata": {},
     "output_type": "execute_result"
    }
   ],
   "source": [
    "res = []\n",
    "for company in tqdm(companyNames):\n",
    "    Ratios = process.extract(company,strOptions)\n",
    "    res.append(stockDic[Ratios[0][0]])\n",
    "res"
   ]
  },
  {
   "cell_type": "code",
   "execution_count": 44,
   "id": "wired-motorcycle",
   "metadata": {},
   "outputs": [],
   "source": [
    "ans = [\"ABNB\",\n",
    "\"F\",\n",
    "\"SPOT\",\n",
    "\"TWTR\",\n",
    "\"VIAC\",\n",
    "\"AVK\",\n",
    "\"CCL\",\n",
    "\"LUV\",\n",
    "\"JBLU\",\n",
    "\"CWB\"]"
   ]
  },
  {
   "cell_type": "code",
   "execution_count": 46,
   "id": "sustainable-huntington",
   "metadata": {},
   "outputs": [
    {
     "name": "stdout",
     "output_type": "stream",
     "text": [
      "TWTR\n",
      "CCL\n",
      "ABNB\n",
      "SPOT\n",
      "F\n",
      "LUV\n",
      "JBLU\n",
      "0.3888888888888889\n"
     ]
    }
   ],
   "source": [
    "ctr = 0\n",
    "for r in res:\n",
    "    if r.upper() in ans:\n",
    "        print(r.upper())\n",
    "        ctr += 1\n",
    "print(ctr/len(res))"
   ]
  },
  {
   "cell_type": "code",
   "execution_count": null,
   "id": "brief-straight",
   "metadata": {},
   "outputs": [],
   "source": []
  }
 ],
 "metadata": {
  "kernelspec": {
   "display_name": "Python 3",
   "language": "python",
   "name": "python3"
  },
  "language_info": {
   "codemirror_mode": {
    "name": "ipython",
    "version": 3
   },
   "file_extension": ".py",
   "mimetype": "text/x-python",
   "name": "python",
   "nbconvert_exporter": "python",
   "pygments_lexer": "ipython3",
   "version": "3.9.2"
  }
 },
 "nbformat": 4,
 "nbformat_minor": 5
}
