{
 "cells": [
  {
   "cell_type": "markdown",
   "metadata": {},
   "source": [
    "## Using Vader"
   ]
  },
  {
   "cell_type": "code",
   "execution_count": 1,
   "metadata": {},
   "outputs": [],
   "source": [
    "from vaderSentiment.vaderSentiment import SentimentIntensityAnalyzer\n",
    "analyzer = SentimentIntensityAnalyzer()"
   ]
  },
  {
   "cell_type": "code",
   "execution_count": 2,
   "metadata": {},
   "outputs": [],
   "source": [
    "import pandas as pd"
   ]
  },
  {
   "cell_type": "code",
   "execution_count": 35,
   "metadata": {},
   "outputs": [],
   "source": [
    "data = pd.read_csv('../output/sentiment_20210409.csv')"
   ]
  },
  {
   "cell_type": "code",
   "execution_count": 36,
   "metadata": {
    "scrolled": true
   },
   "outputs": [
    {
     "data": {
      "text/plain": [
       "(549, 3)"
      ]
     },
     "execution_count": 36,
     "metadata": {},
     "output_type": "execute_result"
    }
   ],
   "source": [
    "data.shape"
   ]
  },
  {
   "cell_type": "code",
   "execution_count": 37,
   "metadata": {},
   "outputs": [
    {
     "data": {
      "text/html": [
       "<div>\n",
       "<style scoped>\n",
       "    .dataframe tbody tr th:only-of-type {\n",
       "        vertical-align: middle;\n",
       "    }\n",
       "\n",
       "    .dataframe tbody tr th {\n",
       "        vertical-align: top;\n",
       "    }\n",
       "\n",
       "    .dataframe thead th {\n",
       "        text-align: right;\n",
       "    }\n",
       "</style>\n",
       "<table border=\"1\" class=\"dataframe\">\n",
       "  <thead>\n",
       "    <tr style=\"text-align: right;\">\n",
       "      <th></th>\n",
       "      <th>created_at</th>\n",
       "      <th>Security</th>\n",
       "      <th>text</th>\n",
       "    </tr>\n",
       "  </thead>\n",
       "  <tbody>\n",
       "    <tr>\n",
       "      <th>0</th>\n",
       "      <td>Fri Apr 09 19:48:19 +0000 2021</td>\n",
       "      <td>3M Company</td>\n",
       "      <td>3M sues Florida company over sale of fake N95 ...</td>\n",
       "    </tr>\n",
       "    <tr>\n",
       "      <th>1</th>\n",
       "      <td>Fri Apr 09 19:48:08 +0000 2021</td>\n",
       "      <td>3M Company</td>\n",
       "      <td>3M sues Florida company over sale of fake N95 ...</td>\n",
       "    </tr>\n",
       "    <tr>\n",
       "      <th>2</th>\n",
       "      <td>Fri Apr 09 19:46:58 +0000 2021</td>\n",
       "      <td>3M Company</td>\n",
       "      <td>Great installation photos of 3M Fireblock Foam...</td>\n",
       "    </tr>\n",
       "    <tr>\n",
       "      <th>3</th>\n",
       "      <td>Fri Apr 09 19:42:59 +0000 2021</td>\n",
       "      <td>3M Company</td>\n",
       "      <td>RT @news4buffalo: Product manufacturer 3M has ...</td>\n",
       "    </tr>\n",
       "    <tr>\n",
       "      <th>4</th>\n",
       "      <td>Fri Apr 09 19:39:02 +0000 2021</td>\n",
       "      <td>3M Company</td>\n",
       "      <td>Product manufacturer 3M has filed a trademark ...</td>\n",
       "    </tr>\n",
       "  </tbody>\n",
       "</table>\n",
       "</div>"
      ],
      "text/plain": [
       "                       created_at    Security  \\\n",
       "0  Fri Apr 09 19:48:19 +0000 2021  3M Company   \n",
       "1  Fri Apr 09 19:48:08 +0000 2021  3M Company   \n",
       "2  Fri Apr 09 19:46:58 +0000 2021  3M Company   \n",
       "3  Fri Apr 09 19:42:59 +0000 2021  3M Company   \n",
       "4  Fri Apr 09 19:39:02 +0000 2021  3M Company   \n",
       "\n",
       "                                                text  \n",
       "0  3M sues Florida company over sale of fake N95 ...  \n",
       "1  3M sues Florida company over sale of fake N95 ...  \n",
       "2  Great installation photos of 3M Fireblock Foam...  \n",
       "3  RT @news4buffalo: Product manufacturer 3M has ...  \n",
       "4  Product manufacturer 3M has filed a trademark ...  "
      ]
     },
     "execution_count": 37,
     "metadata": {},
     "output_type": "execute_result"
    }
   ],
   "source": [
    "data.head(5)"
   ]
  },
  {
   "cell_type": "code",
   "execution_count": 38,
   "metadata": {},
   "outputs": [],
   "source": [
    "data['sentiment'] = 0"
   ]
  },
  {
   "cell_type": "code",
   "execution_count": 39,
   "metadata": {},
   "outputs": [],
   "source": [
    "for i, row in data.iterrows():\n",
    "    data.iloc[i, -1] = analyzer.polarity_scores(row['text'])['compound']"
   ]
  },
  {
   "cell_type": "code",
   "execution_count": 40,
   "metadata": {},
   "outputs": [
    {
     "data": {
      "text/html": [
       "<div>\n",
       "<style scoped>\n",
       "    .dataframe tbody tr th:only-of-type {\n",
       "        vertical-align: middle;\n",
       "    }\n",
       "\n",
       "    .dataframe tbody tr th {\n",
       "        vertical-align: top;\n",
       "    }\n",
       "\n",
       "    .dataframe thead th {\n",
       "        text-align: right;\n",
       "    }\n",
       "</style>\n",
       "<table border=\"1\" class=\"dataframe\">\n",
       "  <thead>\n",
       "    <tr style=\"text-align: right;\">\n",
       "      <th></th>\n",
       "      <th>created_at</th>\n",
       "      <th>Security</th>\n",
       "      <th>text</th>\n",
       "      <th>sentiment</th>\n",
       "    </tr>\n",
       "  </thead>\n",
       "  <tbody>\n",
       "    <tr>\n",
       "      <th>0</th>\n",
       "      <td>Fri Apr 09 19:48:19 +0000 2021</td>\n",
       "      <td>3M Company</td>\n",
       "      <td>3M sues Florida company over sale of fake N95 ...</td>\n",
       "      <td>-0.4767</td>\n",
       "    </tr>\n",
       "    <tr>\n",
       "      <th>1</th>\n",
       "      <td>Fri Apr 09 19:48:08 +0000 2021</td>\n",
       "      <td>3M Company</td>\n",
       "      <td>3M sues Florida company over sale of fake N95 ...</td>\n",
       "      <td>-0.4767</td>\n",
       "    </tr>\n",
       "    <tr>\n",
       "      <th>2</th>\n",
       "      <td>Fri Apr 09 19:46:58 +0000 2021</td>\n",
       "      <td>3M Company</td>\n",
       "      <td>Great installation photos of 3M Fireblock Foam...</td>\n",
       "      <td>0.8519</td>\n",
       "    </tr>\n",
       "    <tr>\n",
       "      <th>3</th>\n",
       "      <td>Fri Apr 09 19:42:59 +0000 2021</td>\n",
       "      <td>3M Company</td>\n",
       "      <td>RT @news4buffalo: Product manufacturer 3M has ...</td>\n",
       "      <td>-0.7845</td>\n",
       "    </tr>\n",
       "    <tr>\n",
       "      <th>4</th>\n",
       "      <td>Fri Apr 09 19:39:02 +0000 2021</td>\n",
       "      <td>3M Company</td>\n",
       "      <td>Product manufacturer 3M has filed a trademark ...</td>\n",
       "      <td>-0.7845</td>\n",
       "    </tr>\n",
       "    <tr>\n",
       "      <th>...</th>\n",
       "      <td>...</td>\n",
       "      <td>...</td>\n",
       "      <td>...</td>\n",
       "      <td>...</td>\n",
       "    </tr>\n",
       "    <tr>\n",
       "      <th>534</th>\n",
       "      <td>Fri Apr 09 10:21:34 +0000 2021</td>\n",
       "      <td>Western Union Co</td>\n",
       "      <td>How to Receive Money at Western Union in Perso...</td>\n",
       "      <td>0.0000</td>\n",
       "    </tr>\n",
       "    <tr>\n",
       "      <th>535</th>\n",
       "      <td>Fri Apr 09 20:30:15 +0000 2021</td>\n",
       "      <td>WestRock</td>\n",
       "      <td>Combat the scope of recalls and provide greate...</td>\n",
       "      <td>0.5267</td>\n",
       "    </tr>\n",
       "    <tr>\n",
       "      <th>536</th>\n",
       "      <td>Fri Apr 09 21:34:25 +0000 2021</td>\n",
       "      <td>Weyerhaeuser</td>\n",
       "      <td>Weyerhaeuser to Restore Wildfire Destroyed For...</td>\n",
       "      <td>-0.2500</td>\n",
       "    </tr>\n",
       "    <tr>\n",
       "      <th>537</th>\n",
       "      <td>Fri Apr 09 21:12:16 +0000 2021</td>\n",
       "      <td>Whirlpool Corp.</td>\n",
       "      <td>RT @mathmania64: 🟥 3 LOT 1980's Betty Crocker ...</td>\n",
       "      <td>0.7783</td>\n",
       "    </tr>\n",
       "    <tr>\n",
       "      <th>538</th>\n",
       "      <td>Fri Apr 09 21:23:15 +0000 2021</td>\n",
       "      <td>Williams Companies</td>\n",
       "      <td>RT @thatginamiller: At last - a pathway toward...</td>\n",
       "      <td>-0.2263</td>\n",
       "    </tr>\n",
       "  </tbody>\n",
       "</table>\n",
       "<p>539 rows × 4 columns</p>\n",
       "</div>"
      ],
      "text/plain": [
       "                         created_at            Security  \\\n",
       "0    Fri Apr 09 19:48:19 +0000 2021          3M Company   \n",
       "1    Fri Apr 09 19:48:08 +0000 2021          3M Company   \n",
       "2    Fri Apr 09 19:46:58 +0000 2021          3M Company   \n",
       "3    Fri Apr 09 19:42:59 +0000 2021          3M Company   \n",
       "4    Fri Apr 09 19:39:02 +0000 2021          3M Company   \n",
       "..                              ...                 ...   \n",
       "534  Fri Apr 09 10:21:34 +0000 2021    Western Union Co   \n",
       "535  Fri Apr 09 20:30:15 +0000 2021            WestRock   \n",
       "536  Fri Apr 09 21:34:25 +0000 2021        Weyerhaeuser   \n",
       "537  Fri Apr 09 21:12:16 +0000 2021     Whirlpool Corp.   \n",
       "538  Fri Apr 09 21:23:15 +0000 2021  Williams Companies   \n",
       "\n",
       "                                                  text  sentiment  \n",
       "0    3M sues Florida company over sale of fake N95 ...    -0.4767  \n",
       "1    3M sues Florida company over sale of fake N95 ...    -0.4767  \n",
       "2    Great installation photos of 3M Fireblock Foam...     0.8519  \n",
       "3    RT @news4buffalo: Product manufacturer 3M has ...    -0.7845  \n",
       "4    Product manufacturer 3M has filed a trademark ...    -0.7845  \n",
       "..                                                 ...        ...  \n",
       "534  How to Receive Money at Western Union in Perso...     0.0000  \n",
       "535  Combat the scope of recalls and provide greate...     0.5267  \n",
       "536  Weyerhaeuser to Restore Wildfire Destroyed For...    -0.2500  \n",
       "537  RT @mathmania64: 🟥 3 LOT 1980's Betty Crocker ...     0.7783  \n",
       "538  RT @thatginamiller: At last - a pathway toward...    -0.2263  \n",
       "\n",
       "[539 rows x 4 columns]"
      ]
     },
     "execution_count": 40,
     "metadata": {},
     "output_type": "execute_result"
    }
   ],
   "source": [
    "data.head(-10)"
   ]
  },
  {
   "cell_type": "code",
   "execution_count": 41,
   "metadata": {},
   "outputs": [],
   "source": [
    "data.to_csv('../output/sentiment_full_20210409.csv', index=False)"
   ]
  },
  {
   "cell_type": "code",
   "execution_count": null,
   "metadata": {},
   "outputs": [],
   "source": []
  }
 ],
 "metadata": {
  "kernelspec": {
   "display_name": "Python 3",
   "language": "python",
   "name": "python3"
  },
  "language_info": {
   "codemirror_mode": {
    "name": "ipython",
    "version": 3
   },
   "file_extension": ".py",
   "mimetype": "text/x-python",
   "name": "python",
   "nbconvert_exporter": "python",
   "pygments_lexer": "ipython3",
   "version": "3.7.6"
  }
 },
 "nbformat": 4,
 "nbformat_minor": 5
}
