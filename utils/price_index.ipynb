{
 "cells": [
  {
   "cell_type": "code",
   "execution_count": 1,
   "metadata": {},
   "outputs": [],
   "source": [
    "from yahoofinancials import YahooFinancials"
   ]
  },
  {
   "cell_type": "code",
   "execution_count": null,
   "metadata": {},
   "outputs": [],
   "source": []
  },
  {
   "cell_type": "code",
   "execution_count": 2,
   "metadata": {},
   "outputs": [],
   "source": [
    "from datetime import date, timedelta\n",
    "from datetime import datetime"
   ]
  },
  {
   "cell_type": "code",
   "execution_count": 21,
   "metadata": {},
   "outputs": [],
   "source": [
    "import numpy as np"
   ]
  },
  {
   "cell_type": "code",
   "execution_count": 3,
   "metadata": {},
   "outputs": [],
   "source": [
    "import pandas as pd"
   ]
  },
  {
   "cell_type": "code",
   "execution_count": 4,
   "metadata": {},
   "outputs": [],
   "source": [
    "SP500 = ['AAPL', 'MSFT', 'BRK-B']"
   ]
  },
  {
   "cell_type": "code",
   "execution_count": 5,
   "metadata": {},
   "outputs": [],
   "source": [
    "yf_SP500 = YahooFinancials(SP500)"
   ]
  },
  {
   "cell_type": "code",
   "execution_count": 6,
   "metadata": {},
   "outputs": [],
   "source": [
    "prices = yf_SP500.get_historical_price_data('2020-03-05', \"2020-04-06\", \n",
    "                                            \"daily\")"
   ]
  },
  {
   "cell_type": "code",
   "execution_count": 7,
   "metadata": {},
   "outputs": [
    {
     "data": {
      "text/plain": [
       "{'date': 1583418600,\n",
       " 'high': 74.88749694824219,\n",
       " 'low': 72.85250091552734,\n",
       " 'open': 73.87999725341797,\n",
       " 'close': 73.2300033569336,\n",
       " 'volume': 187572800,\n",
       " 'adjclose': 72.6667251586914,\n",
       " 'formatted_date': '2020-03-05'}"
      ]
     },
     "execution_count": 7,
     "metadata": {},
     "output_type": "execute_result"
    }
   ],
   "source": [
    "prices['AAPL']['prices'][0]"
   ]
  },
  {
   "cell_type": "code",
   "execution_count": 8,
   "metadata": {},
   "outputs": [
    {
     "data": {
      "text/plain": [
       "[['2020-03-05', 73.2300033569336],\n",
       " ['2020-03-06', 72.25749969482422],\n",
       " ['2020-03-09', 66.5425033569336],\n",
       " ['2020-03-10', 71.33499908447266],\n",
       " ['2020-03-11', 68.85749816894531],\n",
       " ['2020-03-12', 62.057498931884766],\n",
       " ['2020-03-13', 69.49250030517578],\n",
       " ['2020-03-16', 60.5525016784668],\n",
       " ['2020-03-17', 63.21500015258789],\n",
       " ['2020-03-18', 61.66749954223633],\n",
       " ['2020-03-19', 61.19499969482422],\n",
       " ['2020-03-20', 57.310001373291016],\n",
       " ['2020-03-23', 56.092498779296875],\n",
       " ['2020-03-24', 61.720001220703125],\n",
       " ['2020-03-25', 61.380001068115234],\n",
       " ['2020-03-26', 64.61000061035156],\n",
       " ['2020-03-27', 61.935001373291016],\n",
       " ['2020-03-30', 63.70249938964844],\n",
       " ['2020-03-31', 63.5724983215332],\n",
       " ['2020-04-01', 60.227500915527344],\n",
       " ['2020-04-02', 61.23249816894531],\n",
       " ['2020-04-03', 60.352500915527344]]"
      ]
     },
     "execution_count": 8,
     "metadata": {},
     "output_type": "execute_result"
    }
   ],
   "source": [
    "[[p['formatted_date'], p['close']] for p in prices['AAPL']['prices']]"
   ]
  },
  {
   "cell_type": "code",
   "execution_count": 9,
   "metadata": {},
   "outputs": [],
   "source": [
    "def get_prices(event_date, stocks, intervals=[1, 7, 28]):\n",
    "    \"\"\"Output next closing price, \n",
    "    closing price after a week, \n",
    "    and closing price after a month\n",
    "    \"\"\"\n",
    "    future_dates = [\n",
    "        str(datetime.strptime(event_date,'%Y-%m-%d').date() + timedelta(i+1)) for i in intervals\n",
    "    ]\n",
    "    \n",
    "    output_dict = {stock: None for stock in stocks }\n",
    "    yf = YahooFinancials(stocks)\n",
    "    \n",
    "    price_all = yf.get_historical_price_data(event_date, future_dates[-1], \"daily\")\n",
    "    for stock in stocks:\n",
    "        prices = [price_all[stock]['prices'][0]['open']]\n",
    "        prices += [price_all[stock]['prices'][i-1]['close'] for i in intervals[:-1]]\n",
    "        prices += [price_all[stock]['prices'][-1]['close']]\n",
    "        output_dict[stock] = prices\n",
    "    \n",
    "    return output_dict"
   ]
  },
  {
   "cell_type": "code",
   "execution_count": 10,
   "metadata": {},
   "outputs": [
    {
     "data": {
      "text/plain": [
       "{'AAPL': [73.87999725341797,\n",
       "  73.2300033569336,\n",
       "  69.49250030517578,\n",
       "  61.23249816894531],\n",
       " 'MSFT': [166.0500030517578,\n",
       "  166.27000427246094,\n",
       "  158.8300018310547,\n",
       "  155.25999450683594],\n",
       " 'MMM': [150.8000030517578,\n",
       "  151.41000366210938,\n",
       "  141.67999267578125,\n",
       "  137.91000366210938],\n",
       " 'ABT': [80.29000091552734,\n",
       "  80.5199966430664,\n",
       "  81.6500015258789,\n",
       "  79.44000244140625],\n",
       " 'ABBV': [90.05999755859375,\n",
       "  90.61000061035156,\n",
       "  85.37000274658203,\n",
       "  75.12999725341797]}"
      ]
     },
     "execution_count": 10,
     "metadata": {},
     "output_type": "execute_result"
    }
   ],
   "source": [
    "get_prices('2020-03-05', ['AAPL', 'MSFT', 'MMM', 'ABT', 'ABBV'])"
   ]
  },
  {
   "cell_type": "code",
   "execution_count": 11,
   "metadata": {},
   "outputs": [],
   "source": [
    "stocks = list(pd.read_csv('../output/SP500_base.csv').Symbol)"
   ]
  },
  {
   "cell_type": "code",
   "execution_count": 12,
   "metadata": {},
   "outputs": [
    {
     "data": {
      "text/plain": [
       "'MMM'"
      ]
     },
     "execution_count": 12,
     "metadata": {},
     "output_type": "execute_result"
    }
   ],
   "source": [
    "stocks[0]"
   ]
  },
  {
   "cell_type": "code",
   "execution_count": 13,
   "metadata": {},
   "outputs": [],
   "source": [
    "stocks[65] = 'BRK-B'\n",
    "stocks[78] = 'BF-B'"
   ]
  },
  {
   "cell_type": "code",
   "execution_count": 15,
   "metadata": {
    "scrolled": true
   },
   "outputs": [],
   "source": [
    "prices = get_prices('2021-04-09', stocks, \n",
    "                    intervals=[1, 7])"
   ]
  },
  {
   "cell_type": "code",
   "execution_count": 16,
   "metadata": {},
   "outputs": [
    {
     "data": {
      "text/plain": [
       "505"
      ]
     },
     "execution_count": 16,
     "metadata": {},
     "output_type": "execute_result"
    }
   ],
   "source": [
    "len(prices)"
   ]
  },
  {
   "cell_type": "code",
   "execution_count": 17,
   "metadata": {},
   "outputs": [],
   "source": [
    "prices_pd = pd.DataFrame(prices)"
   ]
  },
  {
   "cell_type": "code",
   "execution_count": 18,
   "metadata": {},
   "outputs": [],
   "source": [
    "#prices_pd.to_csv('../output/SP500_20210409.csv', index=False)"
   ]
  },
  {
   "cell_type": "code",
   "execution_count": 27,
   "metadata": {},
   "outputs": [],
   "source": [
    "prices_pd = pd.read_csv('../output/SP500_20210409.csv')"
   ]
  },
  {
   "cell_type": "code",
   "execution_count": 28,
   "metadata": {
    "scrolled": true
   },
   "outputs": [],
   "source": [
    "# (open next day\n",
    "#  close next day\n",
    "#  close next week)\n",
    "#  2021/04/10\n",
    "prices_pd = prices_pd.transpose()"
   ]
  },
  {
   "cell_type": "code",
   "execution_count": 26,
   "metadata": {},
   "outputs": [
    {
     "data": {
      "text/plain": [
       "MMM     198.000000\n",
       "ABT     120.900002\n",
       "ABBV    107.540001\n",
       "ABMD    333.809998\n",
       "ACN     287.709991\n",
       "           ...    \n",
       "YUM     114.959999\n",
       "ZBRA    507.510010\n",
       "ZBH     169.479996\n",
       "ZION     55.939999\n",
       "ZTS     159.850006\n",
       "Name: 1, Length: 505, dtype: float64"
      ]
     },
     "execution_count": 26,
     "metadata": {},
     "output_type": "execute_result"
    }
   ],
   "source": [
    "prices_pd.iloc[:, 1]"
   ]
  },
  {
   "cell_type": "code",
   "execution_count": 30,
   "metadata": {},
   "outputs": [],
   "source": [
    "prices_pd['change_day'] = (prices_pd.iloc[:, 1] - prices_pd.iloc[:, 0]) / prices_pd.iloc[:, 0] * 100\n",
    "prices_pd['change_week'] = (prices_pd.iloc[:, 2] - prices_pd.iloc[:, 0]) / prices_pd.iloc[:, 0] * 100"
   ]
  },
  {
   "cell_type": "code",
   "execution_count": 305,
   "metadata": {},
   "outputs": [],
   "source": [
    "prices_pd\n",
    "#.to_csv('future_prices_20210410.csv', index=True)"
   ]
  },
  {
   "cell_type": "code",
   "execution_count": 80,
   "metadata": {},
   "outputs": [],
   "source": [
    "SP500_sentiments = pd.read_csv('../output/sentiment_full_20210409.csv')"
   ]
  },
  {
   "cell_type": "code",
   "execution_count": 81,
   "metadata": {
    "scrolled": true
   },
   "outputs": [
    {
     "data": {
      "text/html": [
       "<div>\n",
       "<style scoped>\n",
       "    .dataframe tbody tr th:only-of-type {\n",
       "        vertical-align: middle;\n",
       "    }\n",
       "\n",
       "    .dataframe tbody tr th {\n",
       "        vertical-align: top;\n",
       "    }\n",
       "\n",
       "    .dataframe thead th {\n",
       "        text-align: right;\n",
       "    }\n",
       "</style>\n",
       "<table border=\"1\" class=\"dataframe\">\n",
       "  <thead>\n",
       "    <tr style=\"text-align: right;\">\n",
       "      <th></th>\n",
       "      <th>created_at</th>\n",
       "      <th>Security</th>\n",
       "      <th>text</th>\n",
       "      <th>sentiment</th>\n",
       "    </tr>\n",
       "  </thead>\n",
       "  <tbody>\n",
       "    <tr>\n",
       "      <th>0</th>\n",
       "      <td>Fri Apr 09 19:48:19 +0000 2021</td>\n",
       "      <td>3M Company</td>\n",
       "      <td>3M sues Florida company over sale of fake N95 ...</td>\n",
       "      <td>-0.4767</td>\n",
       "    </tr>\n",
       "    <tr>\n",
       "      <th>1</th>\n",
       "      <td>Fri Apr 09 19:48:08 +0000 2021</td>\n",
       "      <td>3M Company</td>\n",
       "      <td>3M sues Florida company over sale of fake N95 ...</td>\n",
       "      <td>-0.4767</td>\n",
       "    </tr>\n",
       "    <tr>\n",
       "      <th>2</th>\n",
       "      <td>Fri Apr 09 19:46:58 +0000 2021</td>\n",
       "      <td>3M Company</td>\n",
       "      <td>Great installation photos of 3M Fireblock Foam...</td>\n",
       "      <td>0.8519</td>\n",
       "    </tr>\n",
       "    <tr>\n",
       "      <th>3</th>\n",
       "      <td>Fri Apr 09 19:42:59 +0000 2021</td>\n",
       "      <td>3M Company</td>\n",
       "      <td>RT @news4buffalo: Product manufacturer 3M has ...</td>\n",
       "      <td>-0.7845</td>\n",
       "    </tr>\n",
       "    <tr>\n",
       "      <th>4</th>\n",
       "      <td>Fri Apr 09 19:39:02 +0000 2021</td>\n",
       "      <td>3M Company</td>\n",
       "      <td>Product manufacturer 3M has filed a trademark ...</td>\n",
       "      <td>-0.7845</td>\n",
       "    </tr>\n",
       "  </tbody>\n",
       "</table>\n",
       "</div>"
      ],
      "text/plain": [
       "                       created_at    Security  \\\n",
       "0  Fri Apr 09 19:48:19 +0000 2021  3M Company   \n",
       "1  Fri Apr 09 19:48:08 +0000 2021  3M Company   \n",
       "2  Fri Apr 09 19:46:58 +0000 2021  3M Company   \n",
       "3  Fri Apr 09 19:42:59 +0000 2021  3M Company   \n",
       "4  Fri Apr 09 19:39:02 +0000 2021  3M Company   \n",
       "\n",
       "                                                text  sentiment  \n",
       "0  3M sues Florida company over sale of fake N95 ...    -0.4767  \n",
       "1  3M sues Florida company over sale of fake N95 ...    -0.4767  \n",
       "2  Great installation photos of 3M Fireblock Foam...     0.8519  \n",
       "3  RT @news4buffalo: Product manufacturer 3M has ...    -0.7845  \n",
       "4  Product manufacturer 3M has filed a trademark ...    -0.7845  "
      ]
     },
     "execution_count": 81,
     "metadata": {},
     "output_type": "execute_result"
    }
   ],
   "source": [
    "SP500_sentiments.head()"
   ]
  },
  {
   "cell_type": "code",
   "execution_count": 192,
   "metadata": {},
   "outputs": [
    {
     "data": {
      "text/plain": [
       "(549, 4)"
      ]
     },
     "execution_count": 192,
     "metadata": {},
     "output_type": "execute_result"
    }
   ],
   "source": [
    "SP500_sentiments.shape"
   ]
  },
  {
   "cell_type": "markdown",
   "metadata": {},
   "source": [
    "## Update the sentiment vector"
   ]
  },
  {
   "cell_type": "code",
   "execution_count": 291,
   "metadata": {},
   "outputs": [],
   "source": [
    "stock_list = pd.read_csv('../output/SP500_base.csv')[['Symbol', 'Security']]"
   ]
  },
  {
   "cell_type": "code",
   "execution_count": 292,
   "metadata": {},
   "outputs": [],
   "source": [
    "SP500_matrix = np.load('../output/matrix2.npy')"
   ]
  },
  {
   "cell_type": "code",
   "execution_count": 293,
   "metadata": {
    "scrolled": true
   },
   "outputs": [],
   "source": [
    "stock_list['sentiment'] = 0"
   ]
  },
  {
   "cell_type": "code",
   "execution_count": 294,
   "metadata": {},
   "outputs": [],
   "source": [
    "def update_sentiment(event, stocks, distance_matrix, weight=0.01):\n",
    "    \"\"\"Inplace edit `stocks.sentiment` to save memory\"\"\"\n",
    "    # assume single stock\n",
    "    stock = stocks[stocks.Security==event.Security].Symbol\n",
    "    index = stock.index[0]\n",
    "    \n",
    "    # update first order nodes\n",
    "    # assume `sentiment` is last column\n",
    "    stocks.iat[idx, -1] += event.sentiment\n",
    "    \n",
    "    # update second order nodes\n",
    "    stocks.sentiment += stocks.sentiment @ distance_matrix\n",
    "    \n",
    "    # reweight\n",
    "    if np.sum(stocks.sentiment != 0):\n",
    "        stocks.sentiment *= (500/np.sum(stocks.sentiment))"
   ]
  },
  {
   "cell_type": "code",
   "execution_count": 295,
   "metadata": {},
   "outputs": [
    {
     "data": {
      "text/html": [
       "<div>\n",
       "<style scoped>\n",
       "    .dataframe tbody tr th:only-of-type {\n",
       "        vertical-align: middle;\n",
       "    }\n",
       "\n",
       "    .dataframe tbody tr th {\n",
       "        vertical-align: top;\n",
       "    }\n",
       "\n",
       "    .dataframe thead th {\n",
       "        text-align: right;\n",
       "    }\n",
       "</style>\n",
       "<table border=\"1\" class=\"dataframe\">\n",
       "  <thead>\n",
       "    <tr style=\"text-align: right;\">\n",
       "      <th></th>\n",
       "      <th>Symbol</th>\n",
       "      <th>Security</th>\n",
       "      <th>sentiment</th>\n",
       "    </tr>\n",
       "  </thead>\n",
       "  <tbody>\n",
       "    <tr>\n",
       "      <th>0</th>\n",
       "      <td>MMM</td>\n",
       "      <td>3M Company</td>\n",
       "      <td>0</td>\n",
       "    </tr>\n",
       "    <tr>\n",
       "      <th>1</th>\n",
       "      <td>ABT</td>\n",
       "      <td>Abbott Laboratories</td>\n",
       "      <td>0</td>\n",
       "    </tr>\n",
       "    <tr>\n",
       "      <th>2</th>\n",
       "      <td>ABBV</td>\n",
       "      <td>AbbVie Inc.</td>\n",
       "      <td>0</td>\n",
       "    </tr>\n",
       "    <tr>\n",
       "      <th>3</th>\n",
       "      <td>ABMD</td>\n",
       "      <td>Abiomed</td>\n",
       "      <td>0</td>\n",
       "    </tr>\n",
       "    <tr>\n",
       "      <th>4</th>\n",
       "      <td>ACN</td>\n",
       "      <td>Accenture</td>\n",
       "      <td>0</td>\n",
       "    </tr>\n",
       "  </tbody>\n",
       "</table>\n",
       "</div>"
      ],
      "text/plain": [
       "  Symbol             Security  sentiment\n",
       "0    MMM           3M Company          0\n",
       "1    ABT  Abbott Laboratories          0\n",
       "2   ABBV          AbbVie Inc.          0\n",
       "3   ABMD              Abiomed          0\n",
       "4    ACN            Accenture          0"
      ]
     },
     "execution_count": 295,
     "metadata": {},
     "output_type": "execute_result"
    }
   ],
   "source": [
    "stock_list.head()"
   ]
  },
  {
   "cell_type": "code",
   "execution_count": 296,
   "metadata": {},
   "outputs": [],
   "source": [
    "for _, row in SP500_sentiments.iterrows():\n",
    "    update_sentiment(row, stock_list, SP500_matrix)"
   ]
  },
  {
   "cell_type": "code",
   "execution_count": 297,
   "metadata": {},
   "outputs": [
    {
     "data": {
      "text/html": [
       "<div>\n",
       "<style scoped>\n",
       "    .dataframe tbody tr th:only-of-type {\n",
       "        vertical-align: middle;\n",
       "    }\n",
       "\n",
       "    .dataframe tbody tr th {\n",
       "        vertical-align: top;\n",
       "    }\n",
       "\n",
       "    .dataframe thead th {\n",
       "        text-align: right;\n",
       "    }\n",
       "</style>\n",
       "<table border=\"1\" class=\"dataframe\">\n",
       "  <thead>\n",
       "    <tr style=\"text-align: right;\">\n",
       "      <th></th>\n",
       "      <th>Symbol</th>\n",
       "      <th>Security</th>\n",
       "      <th>sentiment</th>\n",
       "    </tr>\n",
       "  </thead>\n",
       "  <tbody>\n",
       "    <tr>\n",
       "      <th>0</th>\n",
       "      <td>MMM</td>\n",
       "      <td>3M Company</td>\n",
       "      <td>1.332609</td>\n",
       "    </tr>\n",
       "    <tr>\n",
       "      <th>1</th>\n",
       "      <td>ABT</td>\n",
       "      <td>Abbott Laboratories</td>\n",
       "      <td>0.436241</td>\n",
       "    </tr>\n",
       "    <tr>\n",
       "      <th>2</th>\n",
       "      <td>ABBV</td>\n",
       "      <td>AbbVie Inc.</td>\n",
       "      <td>0.436241</td>\n",
       "    </tr>\n",
       "    <tr>\n",
       "      <th>3</th>\n",
       "      <td>ABMD</td>\n",
       "      <td>Abiomed</td>\n",
       "      <td>0.471615</td>\n",
       "    </tr>\n",
       "    <tr>\n",
       "      <th>4</th>\n",
       "      <td>ACN</td>\n",
       "      <td>Accenture</td>\n",
       "      <td>3.217598</td>\n",
       "    </tr>\n",
       "    <tr>\n",
       "      <th>...</th>\n",
       "      <td>...</td>\n",
       "      <td>...</td>\n",
       "      <td>...</td>\n",
       "    </tr>\n",
       "    <tr>\n",
       "      <th>500</th>\n",
       "      <td>YUM</td>\n",
       "      <td>Yum! Brands Inc</td>\n",
       "      <td>0.614465</td>\n",
       "    </tr>\n",
       "    <tr>\n",
       "      <th>501</th>\n",
       "      <td>ZBRA</td>\n",
       "      <td>Zebra Technologies</td>\n",
       "      <td>2.813353</td>\n",
       "    </tr>\n",
       "    <tr>\n",
       "      <th>502</th>\n",
       "      <td>ZBH</td>\n",
       "      <td>Zimmer Biomet</td>\n",
       "      <td>0.436241</td>\n",
       "    </tr>\n",
       "    <tr>\n",
       "      <th>503</th>\n",
       "      <td>ZION</td>\n",
       "      <td>Zions Bancorp</td>\n",
       "      <td>0.861769</td>\n",
       "    </tr>\n",
       "    <tr>\n",
       "      <th>504</th>\n",
       "      <td>ZTS</td>\n",
       "      <td>Zoetis</td>\n",
       "      <td>0.436241</td>\n",
       "    </tr>\n",
       "  </tbody>\n",
       "</table>\n",
       "<p>505 rows × 3 columns</p>\n",
       "</div>"
      ],
      "text/plain": [
       "    Symbol             Security  sentiment\n",
       "0      MMM           3M Company   1.332609\n",
       "1      ABT  Abbott Laboratories   0.436241\n",
       "2     ABBV          AbbVie Inc.   0.436241\n",
       "3     ABMD              Abiomed   0.471615\n",
       "4      ACN            Accenture   3.217598\n",
       "..     ...                  ...        ...\n",
       "500    YUM      Yum! Brands Inc   0.614465\n",
       "501   ZBRA   Zebra Technologies   2.813353\n",
       "502    ZBH        Zimmer Biomet   0.436241\n",
       "503   ZION        Zions Bancorp   0.861769\n",
       "504    ZTS               Zoetis   0.436241\n",
       "\n",
       "[505 rows x 3 columns]"
      ]
     },
     "execution_count": 297,
     "metadata": {},
     "output_type": "execute_result"
    }
   ],
   "source": [
    "stock_list"
   ]
  },
  {
   "cell_type": "code",
   "execution_count": 282,
   "metadata": {},
   "outputs": [],
   "source": [
    "# stock_list.to_csv('../output/sentiment_vector_20210410.csv', index=False)"
   ]
  },
  {
   "cell_type": "markdown",
   "metadata": {},
   "source": [
    "## Correlation"
   ]
  },
  {
   "cell_type": "code",
   "execution_count": null,
   "metadata": {},
   "outputs": [],
   "source": [
    "# For 2021/04/10"
   ]
  },
  {
   "cell_type": "code",
   "execution_count": 304,
   "metadata": {},
   "outputs": [
    {
     "data": {
      "text/plain": [
       "array([[ 1.        ,  0.14731545, -0.032121  ],\n",
       "       [ 0.14731545,  1.        ,  0.35507166],\n",
       "       [-0.032121  ,  0.35507166,  1.        ]])"
      ]
     },
     "execution_count": 304,
     "metadata": {},
     "output_type": "execute_result"
    }
   ],
   "source": [
    "np.corrcoef([stock_list.sentiment, \n",
    "             prices_pd.change_day, \n",
    "             prices_pd.change_week])"
   ]
  },
  {
   "cell_type": "markdown",
   "metadata": {},
   "source": [
    "## One event example"
   ]
  },
  {
   "cell_type": "code",
   "execution_count": 314,
   "metadata": {},
   "outputs": [],
   "source": [
    "event = SP500_sentiments.iloc[2, :]"
   ]
  },
  {
   "cell_type": "code",
   "execution_count": 315,
   "metadata": {},
   "outputs": [
    {
     "data": {
      "text/plain": [
       "'Great installation photos of 3M Fireblock Foam and CP 25 supplied by General Insulation Company.  Special thank you… https://t.co/NiGsi7TsZX'"
      ]
     },
     "execution_count": 315,
     "metadata": {},
     "output_type": "execute_result"
    }
   ],
   "source": [
    "event.text"
   ]
  },
  {
   "cell_type": "code",
   "execution_count": 316,
   "metadata": {},
   "outputs": [
    {
     "data": {
      "text/plain": [
       "0.8519"
      ]
     },
     "execution_count": 316,
     "metadata": {},
     "output_type": "execute_result"
    }
   ],
   "source": [
    "event.sentiment"
   ]
  },
  {
   "cell_type": "code",
   "execution_count": 322,
   "metadata": {},
   "outputs": [],
   "source": [
    "sentiment_original_array = np.zeros(505)\n",
    "sentiment_original_array[0] = event.sentiment"
   ]
  },
  {
   "cell_type": "code",
   "execution_count": 320,
   "metadata": {},
   "outputs": [],
   "source": [
    "sentiment_original_array[0] = event.sentiment"
   ]
  },
  {
   "cell_type": "code",
   "execution_count": 325,
   "metadata": {},
   "outputs": [],
   "source": [
    "stock_list = pd.read_csv('../output/SP500_base.csv')[['Symbol']]\n",
    "stock_list['sentiment'] = 0"
   ]
  },
  {
   "cell_type": "code",
   "execution_count": 327,
   "metadata": {},
   "outputs": [],
   "source": [
    "impact = sentiment_original_array @ SP500_matrix"
   ]
  },
  {
   "cell_type": "code",
   "execution_count": 328,
   "metadata": {},
   "outputs": [],
   "source": [
    "stock_list.sentiment = impact"
   ]
  },
  {
   "cell_type": "code",
   "execution_count": 332,
   "metadata": {},
   "outputs": [],
   "source": [
    "stock_list.sentiment *= 500/np.sum(stock_list.sentiment)"
   ]
  },
  {
   "cell_type": "code",
   "execution_count": 334,
   "metadata": {},
   "outputs": [
    {
     "data": {
      "text/html": [
       "<div>\n",
       "<style scoped>\n",
       "    .dataframe tbody tr th:only-of-type {\n",
       "        vertical-align: middle;\n",
       "    }\n",
       "\n",
       "    .dataframe tbody tr th {\n",
       "        vertical-align: top;\n",
       "    }\n",
       "\n",
       "    .dataframe thead th {\n",
       "        text-align: right;\n",
       "    }\n",
       "</style>\n",
       "<table border=\"1\" class=\"dataframe\">\n",
       "  <thead>\n",
       "    <tr style=\"text-align: right;\">\n",
       "      <th></th>\n",
       "      <th>Symbol</th>\n",
       "      <th>sentiment</th>\n",
       "    </tr>\n",
       "  </thead>\n",
       "  <tbody>\n",
       "    <tr>\n",
       "      <th>0</th>\n",
       "      <td>MMM</td>\n",
       "      <td>16.853887</td>\n",
       "    </tr>\n",
       "    <tr>\n",
       "      <th>1</th>\n",
       "      <td>ABT</td>\n",
       "      <td>0.000005</td>\n",
       "    </tr>\n",
       "    <tr>\n",
       "      <th>2</th>\n",
       "      <td>ABBV</td>\n",
       "      <td>0.000005</td>\n",
       "    </tr>\n",
       "    <tr>\n",
       "      <th>3</th>\n",
       "      <td>ABMD</td>\n",
       "      <td>0.000026</td>\n",
       "    </tr>\n",
       "    <tr>\n",
       "      <th>4</th>\n",
       "      <td>ACN</td>\n",
       "      <td>0.000014</td>\n",
       "    </tr>\n",
       "    <tr>\n",
       "      <th>...</th>\n",
       "      <td>...</td>\n",
       "      <td>...</td>\n",
       "    </tr>\n",
       "    <tr>\n",
       "      <th>500</th>\n",
       "      <td>YUM</td>\n",
       "      <td>-0.000044</td>\n",
       "    </tr>\n",
       "    <tr>\n",
       "      <th>501</th>\n",
       "      <td>ZBRA</td>\n",
       "      <td>0.000006</td>\n",
       "    </tr>\n",
       "    <tr>\n",
       "      <th>502</th>\n",
       "      <td>ZBH</td>\n",
       "      <td>0.000005</td>\n",
       "    </tr>\n",
       "    <tr>\n",
       "      <th>503</th>\n",
       "      <td>ZION</td>\n",
       "      <td>-0.000035</td>\n",
       "    </tr>\n",
       "    <tr>\n",
       "      <th>504</th>\n",
       "      <td>ZTS</td>\n",
       "      <td>0.000005</td>\n",
       "    </tr>\n",
       "  </tbody>\n",
       "</table>\n",
       "<p>505 rows × 2 columns</p>\n",
       "</div>"
      ],
      "text/plain": [
       "    Symbol  sentiment\n",
       "0      MMM  16.853887\n",
       "1      ABT   0.000005\n",
       "2     ABBV   0.000005\n",
       "3     ABMD   0.000026\n",
       "4      ACN   0.000014\n",
       "..     ...        ...\n",
       "500    YUM  -0.000044\n",
       "501   ZBRA   0.000006\n",
       "502    ZBH   0.000005\n",
       "503   ZION  -0.000035\n",
       "504    ZTS   0.000005\n",
       "\n",
       "[505 rows x 2 columns]"
      ]
     },
     "execution_count": 334,
     "metadata": {},
     "output_type": "execute_result"
    }
   ],
   "source": [
    "stock_list"
   ]
  },
  {
   "cell_type": "code",
   "execution_count": 335,
   "metadata": {},
   "outputs": [],
   "source": [
    "stock_list.to_csv('../output/event_example.csv', index=False)"
   ]
  },
  {
   "cell_type": "code",
   "execution_count": null,
   "metadata": {},
   "outputs": [],
   "source": []
  }
 ],
 "metadata": {
  "kernelspec": {
   "display_name": "Python 3",
   "language": "python",
   "name": "python3"
  },
  "language_info": {
   "codemirror_mode": {
    "name": "ipython",
    "version": 3
   },
   "file_extension": ".py",
   "mimetype": "text/x-python",
   "name": "python",
   "nbconvert_exporter": "python",
   "pygments_lexer": "ipython3",
   "version": "3.7.6"
  }
 },
 "nbformat": 4,
 "nbformat_minor": 4
}
