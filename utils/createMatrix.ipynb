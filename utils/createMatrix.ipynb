{
 "cells": [
  {
   "cell_type": "code",
   "execution_count": 6,
   "id": "another-horse",
   "metadata": {},
   "outputs": [
    {
     "data": {
      "text/html": [
       "<div>\n",
       "<style scoped>\n",
       "    .dataframe tbody tr th:only-of-type {\n",
       "        vertical-align: middle;\n",
       "    }\n",
       "\n",
       "    .dataframe tbody tr th {\n",
       "        vertical-align: top;\n",
       "    }\n",
       "\n",
       "    .dataframe thead th {\n",
       "        text-align: right;\n",
       "    }\n",
       "</style>\n",
       "<table border=\"1\" class=\"dataframe\">\n",
       "  <thead>\n",
       "    <tr style=\"text-align: right;\">\n",
       "      <th></th>\n",
       "      <th>Symbol</th>\n",
       "      <th>Security</th>\n",
       "      <th>GICS Sector</th>\n",
       "      <th>text</th>\n",
       "    </tr>\n",
       "  </thead>\n",
       "  <tbody>\n",
       "    <tr>\n",
       "      <th>500</th>\n",
       "      <td>YUM</td>\n",
       "      <td>Yum! Brands Inc</td>\n",
       "      <td>Consumer Discretionary</td>\n",
       "      <td>Yum! Brands, Inc., or Yum! and formerly Tricon...</td>\n",
       "    </tr>\n",
       "    <tr>\n",
       "      <th>501</th>\n",
       "      <td>ZBRA</td>\n",
       "      <td>Zebra Technologies</td>\n",
       "      <td>Information Technology</td>\n",
       "      <td>Zebra Technologies Corporation is an American ...</td>\n",
       "    </tr>\n",
       "    <tr>\n",
       "      <th>502</th>\n",
       "      <td>ZBH</td>\n",
       "      <td>Zimmer Biomet</td>\n",
       "      <td>Health Care</td>\n",
       "      <td>Zimmer Biomet is a publicly traded medical dev...</td>\n",
       "    </tr>\n",
       "    <tr>\n",
       "      <th>503</th>\n",
       "      <td>ZION</td>\n",
       "      <td>Zions Bancorp</td>\n",
       "      <td>Financials</td>\n",
       "      <td>Zions Bancorporation is a bank holding company...</td>\n",
       "    </tr>\n",
       "    <tr>\n",
       "      <th>504</th>\n",
       "      <td>ZTS</td>\n",
       "      <td>Zoetis</td>\n",
       "      <td>Health Care</td>\n",
       "      <td>Zoetis Inc. (/zō-EH-tis/) is the world's large...</td>\n",
       "    </tr>\n",
       "  </tbody>\n",
       "</table>\n",
       "</div>"
      ],
      "text/plain": [
       "    Symbol            Security             GICS Sector  \\\n",
       "500    YUM     Yum! Brands Inc  Consumer Discretionary   \n",
       "501   ZBRA  Zebra Technologies  Information Technology   \n",
       "502    ZBH       Zimmer Biomet             Health Care   \n",
       "503   ZION       Zions Bancorp              Financials   \n",
       "504    ZTS              Zoetis             Health Care   \n",
       "\n",
       "                                                  text  \n",
       "500  Yum! Brands, Inc., or Yum! and formerly Tricon...  \n",
       "501  Zebra Technologies Corporation is an American ...  \n",
       "502  Zimmer Biomet is a publicly traded medical dev...  \n",
       "503  Zions Bancorporation is a bank holding company...  \n",
       "504  Zoetis Inc. (/zō-EH-tis/) is the world's large...  "
      ]
     },
     "execution_count": 6,
     "metadata": {},
     "output_type": "execute_result"
    }
   ],
   "source": [
    "import pandas as pd\n",
    "import numpy as np\n",
    "df_SP500 = pd.read_csv('./S&P.csv', index_col=0)\n",
    "df_SP500.tail()"
   ]
  },
  {
   "cell_type": "code",
   "execution_count": 7,
   "id": "initial-climate",
   "metadata": {},
   "outputs": [],
   "source": [
    "matrix = np.zeros((505, 505))\n",
    "gics = {}"
   ]
  },
  {
   "cell_type": "code",
   "execution_count": 8,
   "id": "expected-sterling",
   "metadata": {},
   "outputs": [],
   "source": [
    "for i in range(len(df_SP500)):\n",
    "    if df_SP500['GICS Sector'][i] not in gics:\n",
    "        gics[df_SP500['GICS Sector'][i]] = []\n",
    "    gics[df_SP500['GICS Sector'][i]].append(i)\n",
    "    \n",
    "for i in range(len(df_SP500)):\n",
    "    for j in gics[df_SP500['GICS Sector'][i]]:\n",
    "        matrix[i][j] += 1"
   ]
  },
  {
   "cell_type": "code",
   "execution_count": 9,
   "id": "perceived-austin",
   "metadata": {},
   "outputs": [
    {
     "data": {
      "text/html": [
       "<div>\n",
       "<style scoped>\n",
       "    .dataframe tbody tr th:only-of-type {\n",
       "        vertical-align: middle;\n",
       "    }\n",
       "\n",
       "    .dataframe tbody tr th {\n",
       "        vertical-align: top;\n",
       "    }\n",
       "\n",
       "    .dataframe thead th {\n",
       "        text-align: right;\n",
       "    }\n",
       "</style>\n",
       "<table border=\"1\" class=\"dataframe\">\n",
       "  <thead>\n",
       "    <tr style=\"text-align: right;\">\n",
       "      <th></th>\n",
       "      <th>subject</th>\n",
       "      <th>relation</th>\n",
       "      <th>object</th>\n",
       "      <th>subject_type</th>\n",
       "      <th>object_type</th>\n",
       "      <th>record</th>\n",
       "    </tr>\n",
       "  </thead>\n",
       "  <tbody>\n",
       "    <tr>\n",
       "      <th>304</th>\n",
       "      <td>Xerox Holdings Corporation</td>\n",
       "      <td>purchased</td>\n",
       "      <td>Affiliated Computer Services</td>\n",
       "      <td>ORG</td>\n",
       "      <td>ORG</td>\n",
       "      <td>497</td>\n",
       "    </tr>\n",
       "    <tr>\n",
       "      <th>305</th>\n",
       "      <td>Xylem Inc.</td>\n",
       "      <td>does</td>\n",
       "      <td>business</td>\n",
       "      <td>ORG</td>\n",
       "      <td>NOUN_CHUNK</td>\n",
       "      <td>499</td>\n",
       "    </tr>\n",
       "    <tr>\n",
       "      <th>306</th>\n",
       "      <td>Zebra Technologies Corporation products</td>\n",
       "      <td>include</td>\n",
       "      <td>thermal barcode label</td>\n",
       "      <td>NOUN_CHUNK</td>\n",
       "      <td>NOUN_CHUNK</td>\n",
       "      <td>501</td>\n",
       "    </tr>\n",
       "    <tr>\n",
       "      <th>307</th>\n",
       "      <td>Keystone</td>\n",
       "      <td>acquired</td>\n",
       "      <td>57.5 percent interest</td>\n",
       "      <td>ORG</td>\n",
       "      <td>NOUN_CHUNK</td>\n",
       "      <td>503</td>\n",
       "    </tr>\n",
       "    <tr>\n",
       "      <th>308</th>\n",
       "      <td>Zions Bancorporation</td>\n",
       "      <td>continued to</td>\n",
       "      <td>remaining minority shares</td>\n",
       "      <td>ORG</td>\n",
       "      <td>NOUN_CHUNK</td>\n",
       "      <td>503</td>\n",
       "    </tr>\n",
       "  </tbody>\n",
       "</table>\n",
       "</div>"
      ],
      "text/plain": [
       "                                     subject      relation  \\\n",
       "304               Xerox Holdings Corporation     purchased   \n",
       "305                               Xylem Inc.          does   \n",
       "306  Zebra Technologies Corporation products       include   \n",
       "307                                 Keystone      acquired   \n",
       "308                     Zions Bancorporation  continued to   \n",
       "\n",
       "                           object subject_type object_type  record  \n",
       "304  Affiliated Computer Services          ORG         ORG     497  \n",
       "305                      business          ORG  NOUN_CHUNK     499  \n",
       "306         thermal barcode label   NOUN_CHUNK  NOUN_CHUNK     501  \n",
       "307         57.5 percent interest          ORG  NOUN_CHUNK     503  \n",
       "308     remaining minority shares          ORG  NOUN_CHUNK     503  "
      ]
     },
     "execution_count": 9,
     "metadata": {},
     "output_type": "execute_result"
    }
   ],
   "source": [
    "df_triplet = pd.read_csv('./S&PTriplet.csv')\n",
    "df_triplet.tail()"
   ]
  },
  {
   "cell_type": "code",
   "execution_count": 10,
   "id": "successful-encoding",
   "metadata": {},
   "outputs": [],
   "source": [
    "relations = {}\n",
    "for i in range(len(df_triplet)):\n",
    "    if df_triplet['relation'][i] not in relations:\n",
    "        relations[df_triplet['relation'][i]] = []\n",
    "    relations[df_triplet['relation'][i]].append(df_triplet['record'][i])\n",
    "    \n",
    "for i in range(len(df_triplet)):\n",
    "    for j in relations[df_triplet['relation'][i]]:\n",
    "        matrix[i][j] += 2"
   ]
  },
  {
   "cell_type": "code",
   "execution_count": 11,
   "id": "controlled-accordance",
   "metadata": {},
   "outputs": [],
   "source": [
    "np.save('matrix.npy', matrix)"
   ]
  },
  {
   "cell_type": "code",
   "execution_count": 12,
   "id": "talented-distributor",
   "metadata": {},
   "outputs": [
    {
     "data": {
      "text/plain": [
       "array([[3., 0., 0., ..., 0., 0., 0.],\n",
       "       [0., 1., 1., ..., 1., 0., 1.],\n",
       "       [0., 1., 1., ..., 1., 0., 1.],\n",
       "       ...,\n",
       "       [0., 1., 1., ..., 1., 0., 1.],\n",
       "       [0., 0., 0., ..., 0., 1., 0.],\n",
       "       [0., 1., 1., ..., 1., 0., 1.]])"
      ]
     },
     "execution_count": 12,
     "metadata": {},
     "output_type": "execute_result"
    }
   ],
   "source": [
    "matrix"
   ]
  }
 ],
 "metadata": {
  "kernelspec": {
   "display_name": "Python 3",
   "language": "python",
   "name": "python3"
  },
  "language_info": {
   "codemirror_mode": {
    "name": "ipython",
    "version": 3
   },
   "file_extension": ".py",
   "mimetype": "text/x-python",
   "name": "python",
   "nbconvert_exporter": "python",
   "pygments_lexer": "ipython3",
   "version": "3.9.2"
  }
 },
 "nbformat": 4,
 "nbformat_minor": 5
}
