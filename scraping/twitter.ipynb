{
 "cells": [
  {
   "cell_type": "code",
   "execution_count": 7,
   "metadata": {},
   "outputs": [
    {
     "name": "stdout",
     "output_type": "stream",
     "text": [
      "RT @MJHolthaus: So encouraged by @PGelsinger’s note and inspired that our best days are ahead - let’s get started! #IamIntel\n",
      "https://t.co/1…\n",
      "I think he's going to make it. \n",
      "\n",
      "I don't think it's a lock by any means.\n",
      "\n",
      "Hard to tell a percentage because I'd jus… https://t.co/LqwlTBftfS\n",
      "RT @IntelPolicy: Industry safety standards are forthcoming from @IEEEorg, and @NHTSAgov should begin establishing US standards now to best…\n",
      "Lenovo V330z 10ULS0DF00 19.5-inch All-in-One Desktop (9th gen Core i5-9400/8GB/1TB HDD/DOS/Intel UHD 630 Graphics),… https://t.co/WcDYHPEC6X\n",
      "RT @artilleryintel: Headworn AR: How much is being made today? Who's doing what? And what's the outlook? ARtillery Intelligence breaks down…\n",
      "RT @StockMKTNewz: Best and worst performing Dow Jones stocks so far today\n",
      "\n",
      "Best:\n",
      "1 Caterpillar $CAT\n",
      "2 Boeing $BA\n",
      "3 $DOW\n",
      "4 American Express…\n",
      "RT @TheUrbansS: Friday Comment Box : Episode 6 ❤️! | Your Comments My Answer | Video Link : https://t.co/FoSbNuXcmo\n",
      "#theurbans #raihanmusta…\n",
      "Intel is so salty about Apple Silicon they’re basically running Windows ads now lmao\n",
      "FBI and intel agencies hand over first documents to lawmakers ahead of Capitol attack hearings next week https://t.co/Fx8i2ke6v5\n",
      "How Intel Employees Volunteered Their Data Science Expertise To Help Costa Rica Save Lives During the Pandemic… https://t.co/se67eVwxe1\n",
      "Written 10 Tweets\n"
     ]
    }
   ],
   "source": [
    "from nltk.twitter import Twitter\n",
    "\n",
    "tw = Twitter()\n",
    "tw.query\n",
    "res = tw.tweets(keywords='intel', limit=10)"
   ]
  }
 ],
 "metadata": {
  "kernelspec": {
   "display_name": "Python 3",
   "language": "python",
   "name": "python3"
  },
  "language_info": {
   "codemirror_mode": {
    "name": "ipython",
    "version": 3
   },
   "file_extension": ".py",
   "mimetype": "text/x-python",
   "name": "python",
   "nbconvert_exporter": "python",
   "pygments_lexer": "ipython3",
   "version": "3.7.9"
  }
 },
 "nbformat": 4,
 "nbformat_minor": 4
}
