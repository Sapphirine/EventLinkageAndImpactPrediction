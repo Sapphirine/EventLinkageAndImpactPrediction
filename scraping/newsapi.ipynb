{
 "cells": [
  {
   "cell_type": "code",
   "execution_count": 4,
   "metadata": {},
   "outputs": [],
   "source": [
    "import requests\n",
    "\n",
    "url = ('http://newsapi.org/v2/top-headlines?'\n",
    "       'country=us&'\n",
    "       'apiKey=c6ebf8d55eb34befa4373e76db0946a8')\n",
    "response = requests.get(url).json()"
   ]
  },
  {
   "cell_type": "code",
   "execution_count": 17,
   "metadata": {},
   "outputs": [
    {
     "name": "stdout",
     "output_type": "stream",
     "text": [
      "Nvidia says it won’t nerf the Ethereum mining performance of existing GPUs \n",
      "NASA's Perseverance rover nails Mars landing, sends first images of Jezero Crater \n",
      "If Steelers cut Ben Roethlisberger, would he play elsewhere? \n",
      "Biden aides debate how, or if, to save original Iran deal \n",
      "2021 NBA AllStar Game starters announced: LeBron James, Kevin Durant lead way as team captains \n",
      "Sports world reacts to Carson Wentz trade to Colts: 'If it doesn’t work here it won’t work anywhere' \n",
      "Mortal Kombat Trailer Breakdown & Easter Eggs (Nerdist News w/ Dan Casey) \n",
      "Beleaguered Texas hospitals with no water evacuate patients amid winter storm power outages \n",
      "Congress questions Robinhood, Roaring Kitty and hedge funds over GameStop frenzy: CNBC After Hours \n",
      "Dow Jones Futures: Stress Test Your Portfolio; Apple, Nio Flash Sell Signals; Roku Leads Earnings Movers \n",
      "2 tourists tried to bribe screener at Hawaii airport to avoid Covid rules, officials said \n",
      "Ted Cruz’s Cancún Trip: Family Texts Detail His Political Blunder \n",
      "What Walmart Raises Mean for President Biden’s $15 MinimumWage Plan \n",
      "Android 12 brings pinchtoresize and stashing for pictureinpicture windows \n",
      "UK PM Boris Johnson to call on G7 support for 100day target to develop new vaccines \n",
      "Kanye West 'Not Doing Well' Amid Rumours Of Split From Kim Kardashian \n",
      "South Dakota's AG charged with 3 misdemeanors in fatal crash \n",
      "Infant boy among COVID19 deaths reported in Oregon today \n",
      "Apple Offers Its Closest Look Yet at iOS and MacOS Security \n",
      "The new Bidenbacked immigration bill, explained \n"
     ]
    }
   ],
   "source": [
    "articles = response['articles']\n",
    "f = open(\"titles.txt\", \"w\", encoding='UTF-8')\n",
    "for article in articles:\n",
    "#     print(article['title'])\n",
    "    text = ''.join(article['title'].split('-')[:-1])\n",
    "    print(text)\n",
    "    f.write(text + '\\n')\n",
    "f.close()"
   ]
  },
  {
   "cell_type": "code",
   "execution_count": null,
   "metadata": {},
   "outputs": [],
   "source": []
  }
 ],
 "metadata": {
  "kernelspec": {
   "display_name": "Python 3",
   "language": "python",
   "name": "python3"
  },
  "language_info": {
   "codemirror_mode": {
    "name": "ipython",
    "version": 3
   },
   "file_extension": ".py",
   "mimetype": "text/x-python",
   "name": "python",
   "nbconvert_exporter": "python",
   "pygments_lexer": "ipython3",
   "version": "3.7.9"
  }
 },
 "nbformat": 4,
 "nbformat_minor": 4
}
